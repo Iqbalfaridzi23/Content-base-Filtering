{
 "cells": [
  {
   "cell_type": "markdown",
   "id": "56db8190-f6e7-4c2f-8d98-6befde0ab7d9",
   "metadata": {},
   "source": [
    "## Import Library"
   ]
  },
  {
   "cell_type": "code",
   "execution_count": 1,
   "id": "da3c7c9c-35ca-440b-96a7-7f5858b9f062",
   "metadata": {},
   "outputs": [],
   "source": [
    "import pandas as pd\n",
    "import numpy as np\n",
    "from sklearn.metrics.pairwise import cosine_similarity\n",
    "from sklearn.feature_extraction.text import TfidfVectorizer"
   ]
  },
  {
   "cell_type": "markdown",
   "id": "856bca61-ddd0-4b49-8a41-610d5331f18c",
   "metadata": {},
   "source": [
    "## Load Dataset"
   ]
  },
  {
   "cell_type": "code",
   "execution_count": 2,
   "id": "46213541-acbc-4778-90b5-4f74198ab8fe",
   "metadata": {},
   "outputs": [],
   "source": [
    "movies = pd.read_csv(\"movie.csv\")\n",
    "tags = pd.read_csv(\"genome_tags.csv\")\n",
    "scores = pd.read_csv(\"genome_scores.csv\")"
   ]
  },
  {
   "cell_type": "code",
   "execution_count": 3,
   "id": "3504a58c-5fe1-4709-8372-f6cdd44d0b75",
   "metadata": {},
   "outputs": [
    {
     "name": "stdout",
     "output_type": "stream",
     "text": [
      "Jumlah data film yang tersedia:  27278\n",
      "Jumlah tag unik:  1128\n",
      "Jumlah skor relevansi:  11709768\n"
     ]
    }
   ],
   "source": [
    "print('Jumlah data film yang tersedia: ', len(movies.movieId.unique()))\n",
    "print('Jumlah tag unik: ', len(tags.tagId.unique()))\n",
    "print('Jumlah skor relevansi: ', len(scores))"
   ]
  },
  {
   "cell_type": "markdown",
   "id": "1d9a680d-9d91-4f0c-9331-1467b0c27b73",
   "metadata": {},
   "source": [
    "## EDA\n",
    "Tahap eksplorasi penting untuk memahami variabel-variabel pada data serta korelasi antar variabel. Pemahaman terhadap variabel pada data dan korelasinya akan membantu kita dalam menentukan pendekatan atau algoritma yang cocok untuk data kita."
   ]
  },
  {
   "cell_type": "code",
   "execution_count": 4,
   "id": "ffb3c1cd-99d8-4237-85d9-dfd912f47b32",
   "metadata": {},
   "outputs": [
    {
     "name": "stdout",
     "output_type": "stream",
     "text": [
      "<class 'pandas.core.frame.DataFrame'>\n",
      "RangeIndex: 27278 entries, 0 to 27277\n",
      "Data columns (total 3 columns):\n",
      " #   Column   Non-Null Count  Dtype \n",
      "---  ------   --------------  ----- \n",
      " 0   movieId  27278 non-null  int64 \n",
      " 1   title    27278 non-null  object\n",
      " 2   genres   27278 non-null  object\n",
      "dtypes: int64(1), object(2)\n",
      "memory usage: 639.5+ KB\n"
     ]
    }
   ],
   "source": [
    "movies.info()"
   ]
  },
  {
   "cell_type": "code",
   "execution_count": 5,
   "id": "7b5f4931-00ca-4aad-a715-e2d431a52e91",
   "metadata": {},
   "outputs": [
    {
     "data": {
      "text/html": [
       "<div>\n",
       "<style scoped>\n",
       "    .dataframe tbody tr th:only-of-type {\n",
       "        vertical-align: middle;\n",
       "    }\n",
       "\n",
       "    .dataframe tbody tr th {\n",
       "        vertical-align: top;\n",
       "    }\n",
       "\n",
       "    .dataframe thead th {\n",
       "        text-align: right;\n",
       "    }\n",
       "</style>\n",
       "<table border=\"1\" class=\"dataframe\">\n",
       "  <thead>\n",
       "    <tr style=\"text-align: right;\">\n",
       "      <th></th>\n",
       "      <th>movieId</th>\n",
       "      <th>title</th>\n",
       "      <th>genres</th>\n",
       "    </tr>\n",
       "  </thead>\n",
       "  <tbody>\n",
       "    <tr>\n",
       "      <th>0</th>\n",
       "      <td>1</td>\n",
       "      <td>Toy Story (1995)</td>\n",
       "      <td>Adventure|Animation|Children|Comedy|Fantasy</td>\n",
       "    </tr>\n",
       "    <tr>\n",
       "      <th>1</th>\n",
       "      <td>2</td>\n",
       "      <td>Jumanji (1995)</td>\n",
       "      <td>Adventure|Children|Fantasy</td>\n",
       "    </tr>\n",
       "    <tr>\n",
       "      <th>2</th>\n",
       "      <td>3</td>\n",
       "      <td>Grumpier Old Men (1995)</td>\n",
       "      <td>Comedy|Romance</td>\n",
       "    </tr>\n",
       "    <tr>\n",
       "      <th>3</th>\n",
       "      <td>4</td>\n",
       "      <td>Waiting to Exhale (1995)</td>\n",
       "      <td>Comedy|Drama|Romance</td>\n",
       "    </tr>\n",
       "    <tr>\n",
       "      <th>4</th>\n",
       "      <td>5</td>\n",
       "      <td>Father of the Bride Part II (1995)</td>\n",
       "      <td>Comedy</td>\n",
       "    </tr>\n",
       "  </tbody>\n",
       "</table>\n",
       "</div>"
      ],
      "text/plain": [
       "   movieId                               title  \\\n",
       "0        1                    Toy Story (1995)   \n",
       "1        2                      Jumanji (1995)   \n",
       "2        3             Grumpier Old Men (1995)   \n",
       "3        4            Waiting to Exhale (1995)   \n",
       "4        5  Father of the Bride Part II (1995)   \n",
       "\n",
       "                                        genres  \n",
       "0  Adventure|Animation|Children|Comedy|Fantasy  \n",
       "1                   Adventure|Children|Fantasy  \n",
       "2                               Comedy|Romance  \n",
       "3                         Comedy|Drama|Romance  \n",
       "4                                       Comedy  "
      ]
     },
     "execution_count": 5,
     "metadata": {},
     "output_type": "execute_result"
    }
   ],
   "source": [
    "movies.head()"
   ]
  },
  {
   "cell_type": "code",
   "execution_count": 6,
   "id": "13f4b77f-92b5-41c7-b387-9904e27c25b2",
   "metadata": {},
   "outputs": [
    {
     "name": "stdout",
     "output_type": "stream",
     "text": [
      "<class 'pandas.core.frame.DataFrame'>\n",
      "RangeIndex: 1128 entries, 0 to 1127\n",
      "Data columns (total 2 columns):\n",
      " #   Column  Non-Null Count  Dtype \n",
      "---  ------  --------------  ----- \n",
      " 0   tagId   1128 non-null   int64 \n",
      " 1   tag     1128 non-null   object\n",
      "dtypes: int64(1), object(1)\n",
      "memory usage: 17.8+ KB\n"
     ]
    }
   ],
   "source": [
    "tags.info()"
   ]
  },
  {
   "cell_type": "code",
   "execution_count": 7,
   "id": "e0363337-82d2-4882-baf6-38b4f75f8503",
   "metadata": {},
   "outputs": [
    {
     "name": "stdout",
     "output_type": "stream",
     "text": [
      "<class 'pandas.core.frame.DataFrame'>\n",
      "RangeIndex: 11709768 entries, 0 to 11709767\n",
      "Data columns (total 3 columns):\n",
      " #   Column     Dtype  \n",
      "---  ------     -----  \n",
      " 0   movieId    int64  \n",
      " 1   tagId      int64  \n",
      " 2   relevance  float64\n",
      "dtypes: float64(1), int64(2)\n",
      "memory usage: 268.0 MB\n"
     ]
    }
   ],
   "source": [
    "scores.info()"
   ]
  },
  {
   "cell_type": "markdown",
   "id": "ce06ab28-d4e3-4e23-bb10-c023c87e637a",
   "metadata": {},
   "source": [
    "## Data Preparation\n",
    "Pada tahap data preparation, dilakukan penggabungan dan transformasi data tag agar setiap film memiliki representasi teks yang merefleksikan kontennya berdasarkan tag relevan, yang kemudian digunakan untuk proses vektorisasi dan perhitungan kemiripan.\n"
   ]
  },
  {
   "cell_type": "code",
   "execution_count": 8,
   "id": "9ddb951e-b5c4-46a7-bab5-35bec3d79985",
   "metadata": {},
   "outputs": [
    {
     "name": "stdout",
     "output_type": "stream",
     "text": [
      "\n",
      "Cek missing value:\n",
      "Movies:\n",
      "movieId    0\n",
      "title      0\n",
      "genres     0\n",
      "dtype: int64\n",
      "Tags:\n",
      "tagId    0\n",
      "tag      0\n",
      "dtype: int64\n",
      "Scores:\n",
      "movieId      0\n",
      "tagId        0\n",
      "relevance    0\n",
      "dtype: int64\n"
     ]
    }
   ],
   "source": [
    "print(\"\\nCek missing value:\")\n",
    "print(\"Movies:\")\n",
    "print(movies.isnull().sum())\n",
    "print(\"Tags:\")\n",
    "print(tags.isnull().sum())\n",
    "print(\"Scores:\")\n",
    "print(scores.isnull().sum())"
   ]
  },
  {
   "cell_type": "markdown",
   "id": "e31467a2-0bc4-4ed3-80d4-dc29fafb56f2",
   "metadata": {},
   "source": [
    "### Mengecek apakah ada nilai kosong (missing value) dalam masing-masing dataset. Ini penting sebelum proses pemodelan. Disini tidak terdapat missing value"
   ]
  },
  {
   "cell_type": "code",
   "execution_count": 9,
   "id": "34bb867c-ae35-45d6-aa55-411c1fdf1b0b",
   "metadata": {},
   "outputs": [],
   "source": [
    "tag_data = scores.merge(tags, on=\"tagId\")"
   ]
  },
  {
   "cell_type": "markdown",
   "id": "552a1a77-9c11-497c-b9b0-4a293fe26e55",
   "metadata": {},
   "source": [
    "### Menggabungkan scores dan tags berdasarkan tagId sehingga setiap baris menyertakan movieId, tag, dan relevance. Ini adalah fondasi untuk representasi konten film."
   ]
  },
  {
   "cell_type": "code",
   "execution_count": 10,
   "id": "199d7aea-af89-4968-991d-fb2e37d67115",
   "metadata": {},
   "outputs": [],
   "source": [
    "film_tag_repr = tag_data.groupby(\"movieId\").apply(lambda x: ' '.join(\n",
    "    x.sort_values(\"relevance\", ascending=False).head(20)[\"tag\"].values))\n",
    "film_tag_repr = film_tag_repr.reset_index()\n",
    "film_tag_repr.columns = [\"movieId\", \"tags\"]"
   ]
  },
  {
   "cell_type": "markdown",
   "id": "f50e41c0-5a84-4283-892a-95ba436d41e4",
   "metadata": {},
   "source": [
    "### Membuat representasi teks (tag) untuk setiap film:\n",
    "- Mengambil 20 tag teratas berdasarkan relevansi.\n",
    "- Menggabungkannya menjadi satu string per film.\n",
    "- Output: DataFrame dengan movieId dan teks tags."
   ]
  },
  {
   "cell_type": "code",
   "execution_count": 11,
   "id": "1de00275-0723-441f-b239-250baed2db91",
   "metadata": {},
   "outputs": [],
   "source": [
    "movies = movies.merge(film_tag_repr, on=\"movieId\")"
   ]
  },
  {
   "cell_type": "markdown",
   "id": "748a484c-8f2f-4278-92ef-1c9899636c3b",
   "metadata": {},
   "source": [
    "### Menambahkan kolom tags hasil dari proses sebelumnya ke dalam DataFrame movies. Sekarang setiap film memiliki deskripsi berbasis tag.\n",
    "\n"
   ]
  },
  {
   "cell_type": "code",
   "execution_count": 12,
   "id": "72ca02fe-21c9-42bc-9125-09b22b8619ff",
   "metadata": {},
   "outputs": [],
   "source": [
    "vectorizer = TfidfVectorizer(stop_words='english')\n",
    "tfidf_matrix = vectorizer.fit_transform(movies['tags'])"
   ]
  },
  {
   "cell_type": "markdown",
   "id": "2f233e4f-fa01-4310-9f74-52fff39195cc",
   "metadata": {},
   "source": [
    "### Mengubah kolom tags menjadi matriks TF-IDF (representasi numerik) yang akan digunakan untuk menghitung kemiripan antar film."
   ]
  },
  {
   "cell_type": "code",
   "execution_count": 13,
   "id": "192c5f70-5114-45cd-ac86-61224b4b7e99",
   "metadata": {},
   "outputs": [],
   "source": [
    "cosine_sim = cosine_similarity(tfidf_matrix, tfidf_matrix)"
   ]
  },
  {
   "cell_type": "code",
   "execution_count": 15,
   "id": "d7a7262c-094c-478d-84ee-64d3fe3a2178",
   "metadata": {},
   "outputs": [
    {
     "data": {
      "text/html": [
       "<div>\n",
       "<style scoped>\n",
       "    .dataframe tbody tr th:only-of-type {\n",
       "        vertical-align: middle;\n",
       "    }\n",
       "\n",
       "    .dataframe tbody tr th {\n",
       "        vertical-align: top;\n",
       "    }\n",
       "\n",
       "    .dataframe thead th {\n",
       "        text-align: right;\n",
       "    }\n",
       "</style>\n",
       "<table border=\"1\" class=\"dataframe\">\n",
       "  <thead>\n",
       "    <tr style=\"text-align: right;\">\n",
       "      <th>title</th>\n",
       "      <th>Toy Story (1995)</th>\n",
       "      <th>Jumanji (1995)</th>\n",
       "      <th>Grumpier Old Men (1995)</th>\n",
       "      <th>Waiting to Exhale (1995)</th>\n",
       "      <th>Father of the Bride Part II (1995)</th>\n",
       "    </tr>\n",
       "    <tr>\n",
       "      <th>title</th>\n",
       "      <th></th>\n",
       "      <th></th>\n",
       "      <th></th>\n",
       "      <th></th>\n",
       "      <th></th>\n",
       "    </tr>\n",
       "  </thead>\n",
       "  <tbody>\n",
       "    <tr>\n",
       "      <th>Toy Story (1995)</th>\n",
       "      <td>1.000000</td>\n",
       "      <td>0.191271</td>\n",
       "      <td>0.036026</td>\n",
       "      <td>0.059826</td>\n",
       "      <td>0.050819</td>\n",
       "    </tr>\n",
       "    <tr>\n",
       "      <th>Jumanji (1995)</th>\n",
       "      <td>0.191271</td>\n",
       "      <td>1.000000</td>\n",
       "      <td>0.037201</td>\n",
       "      <td>0.037412</td>\n",
       "      <td>0.084219</td>\n",
       "    </tr>\n",
       "    <tr>\n",
       "      <th>Grumpier Old Men (1995)</th>\n",
       "      <td>0.036026</td>\n",
       "      <td>0.037201</td>\n",
       "      <td>1.000000</td>\n",
       "      <td>0.041308</td>\n",
       "      <td>0.413571</td>\n",
       "    </tr>\n",
       "    <tr>\n",
       "      <th>Waiting to Exhale (1995)</th>\n",
       "      <td>0.059826</td>\n",
       "      <td>0.037412</td>\n",
       "      <td>0.041308</td>\n",
       "      <td>1.000000</td>\n",
       "      <td>0.248635</td>\n",
       "    </tr>\n",
       "    <tr>\n",
       "      <th>Father of the Bride Part II (1995)</th>\n",
       "      <td>0.050819</td>\n",
       "      <td>0.084219</td>\n",
       "      <td>0.413571</td>\n",
       "      <td>0.248635</td>\n",
       "      <td>1.000000</td>\n",
       "    </tr>\n",
       "  </tbody>\n",
       "</table>\n",
       "</div>"
      ],
      "text/plain": [
       "title                               Toy Story (1995)  Jumanji (1995)  \\\n",
       "title                                                                  \n",
       "Toy Story (1995)                            1.000000        0.191271   \n",
       "Jumanji (1995)                              0.191271        1.000000   \n",
       "Grumpier Old Men (1995)                     0.036026        0.037201   \n",
       "Waiting to Exhale (1995)                    0.059826        0.037412   \n",
       "Father of the Bride Part II (1995)          0.050819        0.084219   \n",
       "\n",
       "title                               Grumpier Old Men (1995)  \\\n",
       "title                                                         \n",
       "Toy Story (1995)                                   0.036026   \n",
       "Jumanji (1995)                                     0.037201   \n",
       "Grumpier Old Men (1995)                            1.000000   \n",
       "Waiting to Exhale (1995)                           0.041308   \n",
       "Father of the Bride Part II (1995)                 0.413571   \n",
       "\n",
       "title                               Waiting to Exhale (1995)  \\\n",
       "title                                                          \n",
       "Toy Story (1995)                                    0.059826   \n",
       "Jumanji (1995)                                      0.037412   \n",
       "Grumpier Old Men (1995)                             0.041308   \n",
       "Waiting to Exhale (1995)                            1.000000   \n",
       "Father of the Bride Part II (1995)                  0.248635   \n",
       "\n",
       "title                               Father of the Bride Part II (1995)  \n",
       "title                                                                   \n",
       "Toy Story (1995)                                              0.050819  \n",
       "Jumanji (1995)                                                0.084219  \n",
       "Grumpier Old Men (1995)                                       0.413571  \n",
       "Waiting to Exhale (1995)                                      0.248635  \n",
       "Father of the Bride Part II (1995)                            1.000000  "
      ]
     },
     "execution_count": 15,
     "metadata": {},
     "output_type": "execute_result"
    }
   ],
   "source": [
    "cosine_df = pd.DataFrame(cosine_sim, index=movies['title'], columns=movies['title'])\n",
    "cosine_df.iloc[:5, :5]"
   ]
  },
  {
   "cell_type": "markdown",
   "id": "727c7716-f496-48dd-9c5e-7ef868b8d084",
   "metadata": {},
   "source": [
    "### Menghitung matriks kemiripan kosinus antar semua film berdasarkan vektor TF-IDF mereka. Semakin besar nilai, semakin mirip dua film tersebut."
   ]
  },
  {
   "cell_type": "markdown",
   "id": "f85620f0-aa08-4cc0-bae0-912da4aec6b2",
   "metadata": {},
   "source": [
    "## Membuat Fungsi Rekomendasi\n",
    "### Fungsi utama sistem rekomendasi:\n",
    "- Menerima judul film dan jumlah rekomendasi.\n",
    "- Mencari film paling mirip berdasarkan nilai kemiripan kosinus."
   ]
  },
  {
   "cell_type": "code",
   "execution_count": 16,
   "id": "ab9f5c6c-98ba-4e1a-976a-e50f41d75ad2",
   "metadata": {},
   "outputs": [],
   "source": [
    "indices = pd.Series(movies.index, index=movies['title']).drop_duplicates()\n",
    "\n",
    "def rekomendasikan_film(judul, n=5):\n",
    "    if judul not in indices:\n",
    "        return f\"Film '{judul}' tidak ditemukan dalam dataset.\"\n",
    "    idx = indices[judul]\n",
    "    sim_scores = list(enumerate(cosine_sim[idx]))\n",
    "    sim_scores = sorted(sim_scores, key=lambda x: x[1], reverse=True)\n",
    "    sim_scores = sim_scores[1:n+1]  # Skip film itu sendiri\n",
    "    film_indices = [i[0] for i in sim_scores]\n",
    "    return movies['title'].iloc[film_indices].tolist()\n"
   ]
  },
  {
   "cell_type": "code",
   "execution_count": 17,
   "id": "b443bb45-5b99-4993-a49d-1ca4b206a4f9",
   "metadata": {},
   "outputs": [
    {
     "name": "stdout",
     "output_type": "stream",
     "text": [
      "Rekomendasi untuk 'Toy Story (1995)':\n",
      "['Monsters, Inc. (2001)', 'Toy Story 2 (1999)', \"Bug's Life, A (1998)\", 'Toy Story 3 (2010)', 'Incredibles, The (2004)']\n"
     ]
    }
   ],
   "source": [
    "print(\"Rekomendasi untuk 'Toy Story (1995)':\")\n",
    "print(rekomendasikan_film(\"Toy Story (1995)\"))"
   ]
  },
  {
   "cell_type": "markdown",
   "id": "c59d51f7-24c5-4a87-af06-50c13ebe4d9b",
   "metadata": {},
   "source": [
    "### Menguji fungsi rekomendasi dengan film “Toy Story (1995)” untuk melihat film-film yang paling mirip berdasarkan kontennya.\n",
    "\n"
   ]
  },
  {
   "cell_type": "markdown",
   "id": "a4f82a87-0a70-48b6-8466-3076c3b7e2ce",
   "metadata": {},
   "source": [
    "## Evaluasi\n",
    "- Evaluasi dilakukan secara kualitatif dengan melihat apakah hasil rekomendasi memang mirip secara konten.\n",
    "- Uji coba beberapa film dan lihat apakah genre/tag-nya relevan terhadap input."
   ]
  },
  {
   "cell_type": "code",
   "execution_count": 28,
   "id": "2882be27-f0a3-41d0-946c-93843233fe1c",
   "metadata": {},
   "outputs": [
    {
     "data": {
      "text/html": [
       "<div>\n",
       "<style scoped>\n",
       "    .dataframe tbody tr th:only-of-type {\n",
       "        vertical-align: middle;\n",
       "    }\n",
       "\n",
       "    .dataframe tbody tr th {\n",
       "        vertical-align: top;\n",
       "    }\n",
       "\n",
       "    .dataframe thead th {\n",
       "        text-align: right;\n",
       "    }\n",
       "</style>\n",
       "<table border=\"1\" class=\"dataframe\">\n",
       "  <thead>\n",
       "    <tr style=\"text-align: right;\">\n",
       "      <th></th>\n",
       "      <th>title</th>\n",
       "      <th>genres</th>\n",
       "    </tr>\n",
       "  </thead>\n",
       "  <tbody>\n",
       "    <tr>\n",
       "      <th>0</th>\n",
       "      <td>Toy Story (1995)</td>\n",
       "      <td>Adventure|Animation|Children|Comedy|Fantasy</td>\n",
       "    </tr>\n",
       "    <tr>\n",
       "      <th>1</th>\n",
       "      <td>Jumanji (1995)</td>\n",
       "      <td>Adventure|Children|Fantasy</td>\n",
       "    </tr>\n",
       "    <tr>\n",
       "      <th>2</th>\n",
       "      <td>Grumpier Old Men (1995)</td>\n",
       "      <td>Comedy|Romance</td>\n",
       "    </tr>\n",
       "    <tr>\n",
       "      <th>3</th>\n",
       "      <td>Waiting to Exhale (1995)</td>\n",
       "      <td>Comedy|Drama|Romance</td>\n",
       "    </tr>\n",
       "    <tr>\n",
       "      <th>4</th>\n",
       "      <td>Father of the Bride Part II (1995)</td>\n",
       "      <td>Comedy</td>\n",
       "    </tr>\n",
       "  </tbody>\n",
       "</table>\n",
       "</div>"
      ],
      "text/plain": [
       "                                title  \\\n",
       "0                    Toy Story (1995)   \n",
       "1                      Jumanji (1995)   \n",
       "2             Grumpier Old Men (1995)   \n",
       "3            Waiting to Exhale (1995)   \n",
       "4  Father of the Bride Part II (1995)   \n",
       "\n",
       "                                        genres  \n",
       "0  Adventure|Animation|Children|Comedy|Fantasy  \n",
       "1                   Adventure|Children|Fantasy  \n",
       "2                               Comedy|Romance  \n",
       "3                         Comedy|Drama|Romance  \n",
       "4                                       Comedy  "
      ]
     },
     "execution_count": 28,
     "metadata": {},
     "output_type": "execute_result"
    }
   ],
   "source": [
    "movies[['title', 'genres']].head()\n"
   ]
  },
  {
   "cell_type": "code",
   "execution_count": 29,
   "id": "2955cbb4-6945-4d95-b2b0-e3883229ea68",
   "metadata": {},
   "outputs": [],
   "source": [
    "movies['genre_set'] = movies['genres'].apply(lambda x: set(x.lower().split('|')))\n"
   ]
  },
  {
   "cell_type": "code",
   "execution_count": 36,
   "id": "7a13dec8-6d5e-46eb-9a7f-77fb77a8ff92",
   "metadata": {},
   "outputs": [],
   "source": [
    "def evaluate_precision_at_k(top_k=5, sample_size=100):\n",
    "    total_precision = 0\n",
    "    count = 0\n",
    "\n",
    "    for idx, row in movies.sample(sample_size, random_state=42).iterrows():\n",
    "        judul = row['title']\n",
    "        true_genres = row['genre_set']\n",
    "        \n",
    "        rekomendasi = rekomendasikan_film(judul, n=top_k)\n",
    "        \n",
    "        if isinstance(rekomendasi, str):  # artinya film tidak ditemukan\n",
    "            continue\n",
    "        \n",
    "        overlap_count = 0\n",
    "        for rec_title in rekomendasi:\n",
    "            rec_genres = movies[movies['title'] == rec_title]['genre_set'].values\n",
    "            if len(rec_genres) == 0:\n",
    "                continue\n",
    "            rec_genres = rec_genres[0]\n",
    "            if len(true_genres & rec_genres) > 0:\n",
    "                overlap_count += 1\n",
    "        \n",
    "        precision = overlap_count / top_k\n",
    "        total_precision += precision\n",
    "        count += 1\n",
    "\n",
    "    avg_precision = total_precision / count\n",
    "    print(f\"Average Precision@{top_k} (based on genre overlap): {avg_precision:.4f}\")\n",
    "    return avg_precision\n"
   ]
  },
  {
   "cell_type": "code",
   "execution_count": 37,
   "id": "4e1e6c68-d77d-49f7-8831-a6724b0abb7b",
   "metadata": {},
   "outputs": [
    {
     "name": "stdout",
     "output_type": "stream",
     "text": [
      "Average Precision@5 (based on genre overlap): 0.8520\n"
     ]
    },
    {
     "data": {
      "text/plain": [
       "0.8519999999999998"
      ]
     },
     "execution_count": 37,
     "metadata": {},
     "output_type": "execute_result"
    }
   ],
   "source": [
    "evaluate_precision_at_k(top_k=5, sample_size=100)\n"
   ]
  },
  {
   "cell_type": "code",
   "execution_count": 38,
   "id": "bb7a6976-c9ba-44aa-9292-85e3241bc401",
   "metadata": {},
   "outputs": [
    {
     "name": "stdout",
     "output_type": "stream",
     "text": [
      "\n",
      "Rekomendasi untuk 'Toy Story (1995)':\n",
      "['Monsters, Inc. (2001)', 'Toy Story 2 (1999)', \"Bug's Life, A (1998)\", 'Toy Story 3 (2010)', 'Incredibles, The (2004)']\n",
      "\n",
      "Rekomendasi untuk 'Jumanji (1995)':\n",
      "['Super Mario Bros. (1993)', 'In the Name of the King: A Dungeon Siege Tale (2008)', 'Prince of Persia: The Sands of Time (2010)', 'Resident Evil: Degeneration (Baiohazâdo: Dijenerêshon) (2008)', 'Mortal Kombat (1995)']\n",
      "\n",
      "Rekomendasi untuk 'Heat (1995)':\n",
      "['Boyz N the Hood (1991)', 'Town, The (2010)', 'Crash (2004)', 'Die Hard (1988)', 'Takers (2010)']\n"
     ]
    }
   ],
   "source": [
    "test_titles = [\"Toy Story (1995)\", \"Jumanji (1995)\", \"Heat (1995)\"]\n",
    "\n",
    "for title in test_titles:\n",
    "    print(f\"\\nRekomendasi untuk '{title}':\")\n",
    "    print(rekomendasikan_film(title))"
   ]
  },
  {
   "cell_type": "code",
   "execution_count": null,
   "id": "b8d7e373-4e58-4ba7-9043-d06c5da64832",
   "metadata": {},
   "outputs": [],
   "source": []
  }
 ],
 "metadata": {
  "kernelspec": {
   "display_name": "Python 3 (ipykernel)",
   "language": "python",
   "name": "python3"
  },
  "language_info": {
   "codemirror_mode": {
    "name": "ipython",
    "version": 3
   },
   "file_extension": ".py",
   "mimetype": "text/x-python",
   "name": "python",
   "nbconvert_exporter": "python",
   "pygments_lexer": "ipython3",
   "version": "3.9.13"
  }
 },
 "nbformat": 4,
 "nbformat_minor": 5
}
